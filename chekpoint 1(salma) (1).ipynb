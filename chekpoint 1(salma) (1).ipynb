{
 "cells": [
  {
   "cell_type": "code",
   "execution_count": 33,
   "id": "e5450385",
   "metadata": {},
   "outputs": [
    {
     "name": "stdout",
     "output_type": "stream",
     "text": [
      "entrer votre prenomd\n",
      "entrer votre noms\n",
      "s d\n"
     ]
    }
   ],
   "source": [
    "a=(input(\"entrer votre prenom\"))\n",
    "b=(input(\"entrer votre nom\"))\n",
    "print(b + \" \" + a)"
   ]
  },
  {
   "cell_type": "code",
   "execution_count": 31,
   "id": "3946fca7",
   "metadata": {},
   "outputs": [
    {
     "name": "stdout",
     "output_type": "stream",
     "text": [
      "entrer un nombre5\n",
      "le nombre est inpair\n"
     ]
    }
   ],
   "source": [
    "num=int(input(\"entrer un nombre\"))\n",
    "if num%2==0:\n",
    "    print(\"le nombre est pair\")\n",
    "else:\n",
    "    print(\"le nombre est inpair\")"
   ]
  },
  {
   "cell_type": "code",
   "execution_count": 32,
   "id": "497bac27",
   "metadata": {},
   "outputs": [
    {
     "name": "stdout",
     "output_type": "stream",
     "text": [
      "2030,2065,2100,2135,2170,2205,2240,2275,2310,2345,2380,2415,2450,2485,2520,2555,2590,2625,2660,2695,2730,2765,2800,2835,2870,2905,2940,2975,3010,3045,3080,3115,3150,3185\n"
     ]
    }
   ],
   "source": [
    "n=[]\n",
    "for x in range(2000, 3200):\n",
    "    if (x%7==0) and (x%5==0):\n",
    "        n.append(str(x))\n",
    "print(','.join(n))        "
   ]
  },
  {
   "cell_type": "code",
   "execution_count": 37,
   "id": "f7d7964f",
   "metadata": {},
   "outputs": [
    {
     "name": "stdout",
     "output_type": "stream",
     "text": [
      "entrer un nombre:8\n",
      "n de 8 est 40320\n"
     ]
    }
   ],
   "source": [
    "num=int(input(\"entrer un nombre:\"))\n",
    "n=1\n",
    "if num==0:\n",
    "    print(\"n de 0 est 1\")\n",
    "for i in range(1,num +1):\n",
    "    n=n*i\n",
    "print(\"n de\",num,\"est\",n)"
   ]
  },
  {
   "cell_type": "code",
   "execution_count": null,
   "id": "2c9f6880",
   "metadata": {},
   "outputs": [],
   "source": []
  }
 ],
 "metadata": {
  "kernelspec": {
   "display_name": "Python 3",
   "language": "python",
   "name": "python3"
  }
 },
 "nbformat": 4,
 "nbformat_minor": 5
}
